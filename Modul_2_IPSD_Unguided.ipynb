{
  "nbformat": 4,
  "nbformat_minor": 0,
  "metadata": {
    "colab": {
      "provenance": [],
      "authorship_tag": "ABX9TyMB1xUsZpuQU3YU+l3GzIIO",
      "include_colab_link": true
    },
    "kernelspec": {
      "name": "python3",
      "display_name": "Python 3"
    },
    "language_info": {
      "name": "python"
    }
  },
  "cells": [
    {
      "cell_type": "markdown",
      "metadata": {
        "id": "view-in-github",
        "colab_type": "text"
      },
      "source": [
        "<a href=\"https://colab.research.google.com/github/JetiAprilia9/IPSD-Assignment/blob/main/Modul_2_IPSD_Unguided.ipynb\" target=\"_parent\"><img src=\"https://colab.research.google.com/assets/colab-badge.svg\" alt=\"Open In Colab\"/></a>"
      ]
    },
    {
      "cell_type": "code",
      "execution_count": 2,
      "metadata": {
        "id": "4kR6Xg4n8MjL"
      },
      "outputs": [],
      "source": [
        "import pandas as pd"
      ]
    },
    {
      "cell_type": "code",
      "source": [
        "df = pd.read_csv ('/content/Movie_classification - Movie_classification.csv')\n",
        "#Untuk no.1 Unguided yaitu load data csv dan data yang digunakan adalah Movie_classification"
      ],
      "metadata": {
        "id": "metV5CL-8wdI"
      },
      "execution_count": 4,
      "outputs": []
    },
    {
      "cell_type": "code",
      "source": [
        "#Untuk no.2 diminta untuk mengecek nilai duplikat dari data yang telah di load, untuk kodenya sebagai berikut:\n",
        "#Menggunakan df.duplicated() dan diperoleh bahwa 0 nilai duplikat\n",
        "df.duplicated().sum()"
      ],
      "metadata": {
        "colab": {
          "base_uri": "https://localhost:8080/"
        },
        "id": "mRyD_cfd9F2s",
        "outputId": "7840aa2e-eadc-4809-ec31-9a2e4715a97c"
      },
      "execution_count": 10,
      "outputs": [
        {
          "output_type": "execute_result",
          "data": {
            "text/plain": [
              "0"
            ]
          },
          "metadata": {},
          "execution_count": 10
        }
      ]
    },
    {
      "cell_type": "code",
      "source": [
        "#Untuk membuat null values presentase maka digunakan missing_values dan dibuat presentase maka ditambahkan missing_percentage\n",
        "#Sehingga di dapat hasil sebagai berikut\n",
        "missing_values = df.isnull().sum()\n",
        "missing_percentage = (missing_values / len(df)) * 100"
      ],
      "metadata": {
        "id": "JX2vmm6K-K1m"
      },
      "execution_count": 12,
      "outputs": []
    },
    {
      "cell_type": "code",
      "source": [
        "df = df.dropna()"
      ],
      "metadata": {
        "id": "Jub5zr-DANkq"
      },
      "execution_count": 26,
      "outputs": []
    },
    {
      "cell_type": "code",
      "source": [
        "df_drop_cols = df.dropna(axis=1)"
      ],
      "metadata": {
        "id": "rhXQbx51Ekbs"
      },
      "execution_count": 27,
      "outputs": []
    },
    {
      "cell_type": "code",
      "source": [
        "df.info()"
      ],
      "metadata": {
        "colab": {
          "base_uri": "https://localhost:8080/"
        },
        "id": "thiONz9oEqj4",
        "outputId": "b92fb854-da42-421e-b742-06901f0a73df"
      },
      "execution_count": 28,
      "outputs": [
        {
          "output_type": "stream",
          "name": "stdout",
          "text": [
            "<class 'pandas.core.frame.DataFrame'>\n",
            "Index: 494 entries, 0 to 505\n",
            "Data columns (total 19 columns):\n",
            " #   Column               Non-Null Count  Dtype  \n",
            "---  ------               --------------  -----  \n",
            " 0   Marketing expense    494 non-null    object \n",
            " 1   Production expense   494 non-null    float64\n",
            " 2   Multiplex coverage   494 non-null    float64\n",
            " 3   Budget               494 non-null    object \n",
            " 4   Movie_length         494 non-null    float64\n",
            " 5   Lead_ Actor_Rating   494 non-null    float64\n",
            " 6   Lead_Actress_rating  494 non-null    float64\n",
            " 7   Director_rating      494 non-null    float64\n",
            " 8   Producer_rating      494 non-null    float64\n",
            " 9   Critic_rating        494 non-null    float64\n",
            " 10  Trailer_views        494 non-null    int64  \n",
            " 11  3D_available         494 non-null    object \n",
            " 12  Time_taken           494 non-null    float64\n",
            " 13  Twitter_hastags      494 non-null    float64\n",
            " 14  Genre                494 non-null    object \n",
            " 15  Avg_age_actors       494 non-null    int64  \n",
            " 16  Num_multiplex        494 non-null    int64  \n",
            " 17  Collection           494 non-null    int64  \n",
            " 18  Start_Tech_Oscar     494 non-null    int64  \n",
            "dtypes: float64(10), int64(5), object(4)\n",
            "memory usage: 77.2+ KB\n"
          ]
        }
      ]
    },
    {
      "cell_type": "code",
      "source": [
        "# Assuming your data is in a CSV file named 'your_data.csv'\n",
        "import pandas as pd\n",
        "\n",
        "# Load the data into a DataFrame named 'data'\n",
        "data = pd.read_csv('/content/Movie_classification - Movie_classification.csv')\n",
        "\n",
        "# Now proceed with the imputation\n",
        "data_mean_impute = data.copy()\n",
        "data_mean_impute['Time_taken'].fillna(data_mean_impute['Time_taken'].mean(), inplace=True)"
      ],
      "metadata": {
        "colab": {
          "base_uri": "https://localhost:8080/"
        },
        "id": "Jw0Z9kr_HCj8",
        "outputId": "9868ff8c-2de2-4190-e234-9cf65800c49c"
      },
      "execution_count": 31,
      "outputs": [
        {
          "output_type": "stream",
          "name": "stderr",
          "text": [
            "<ipython-input-31-367749ed52b7>:9: FutureWarning: A value is trying to be set on a copy of a DataFrame or Series through chained assignment using an inplace method.\n",
            "The behavior will change in pandas 3.0. This inplace method will never work because the intermediate object on which we are setting values always behaves as a copy.\n",
            "\n",
            "For example, when doing 'df[col].method(value, inplace=True)', try using 'df.method({col: value}, inplace=True)' or df[col] = df[col].method(value) instead, to perform the operation inplace on the original object.\n",
            "\n",
            "\n",
            "  data_mean_impute['Time_taken'].fillna(data_mean_impute['Time_taken'].mean(), inplace=True)\n"
          ]
        }
      ]
    },
    {
      "cell_type": "code",
      "source": [
        "# Assuming your data is in a CSV file named 'your_data.csv'\n",
        "import pandas as pd\n",
        "\n",
        "# Load the data into a DataFrame named 'data'\n",
        "data = pd.read_csv('/content/Movie_classification - Movie_classification.csv')\n",
        "\n",
        "# Now proceed with the imputation\n",
        "data_median_impute = data.copy()\n",
        "data_median_impute['Time_taken'].fillna(data_median_impute['Time_taken'].median(), inplace=True)"
      ],
      "metadata": {
        "colab": {
          "base_uri": "https://localhost:8080/"
        },
        "id": "xK-1UXdjI9F4",
        "outputId": "06fe42b6-4bf6-4b14-b162-657655db7b50"
      },
      "execution_count": 33,
      "outputs": [
        {
          "output_type": "stream",
          "name": "stderr",
          "text": [
            "<ipython-input-33-b75250b5651e>:9: FutureWarning: A value is trying to be set on a copy of a DataFrame or Series through chained assignment using an inplace method.\n",
            "The behavior will change in pandas 3.0. This inplace method will never work because the intermediate object on which we are setting values always behaves as a copy.\n",
            "\n",
            "For example, when doing 'df[col].method(value, inplace=True)', try using 'df.method({col: value}, inplace=True)' or df[col] = df[col].method(value) instead, to perform the operation inplace on the original object.\n",
            "\n",
            "\n",
            "  data_median_impute['Time_taken'].fillna(data_median_impute['Time_taken'].median(), inplace=True)\n"
          ]
        }
      ]
    },
    {
      "cell_type": "code",
      "source": [
        "# Assuming your data is in a CSV file named 'your_data.csv'\n",
        "import pandas as pd\n",
        "\n",
        "# Load the data into a DataFrame named 'data'\n",
        "data = pd.read_csv('/content/Movie_classification - Movie_classification.csv')\n",
        "\n",
        "# Now proceed with the imputation\n",
        "data_mode_impute = data.copy()\n",
        "data_mode_impute['Time_taken'].fillna(data_mode_impute['Time_taken'].mode(), inplace=True)"
      ],
      "metadata": {
        "colab": {
          "base_uri": "https://localhost:8080/"
        },
        "id": "ZvOZP5HCJHj-",
        "outputId": "4abd2004-bbf4-4bab-ec2a-dcea41595a2c"
      },
      "execution_count": 34,
      "outputs": [
        {
          "output_type": "stream",
          "name": "stderr",
          "text": [
            "<ipython-input-34-acbc37ec7052>:9: FutureWarning: A value is trying to be set on a copy of a DataFrame or Series through chained assignment using an inplace method.\n",
            "The behavior will change in pandas 3.0. This inplace method will never work because the intermediate object on which we are setting values always behaves as a copy.\n",
            "\n",
            "For example, when doing 'df[col].method(value, inplace=True)', try using 'df.method({col: value}, inplace=True)' or df[col] = df[col].method(value) instead, to perform the operation inplace on the original object.\n",
            "\n",
            "\n",
            "  data_mode_impute['Time_taken'].fillna(data_mode_impute['Time_taken'].mode(), inplace=True)\n"
          ]
        }
      ]
    },
    {
      "cell_type": "code",
      "source": [
        "df.to_excel('Movie_classification_clean.xlsx', index=False)"
      ],
      "metadata": {
        "id": "1a3-nKEVAyt5"
      },
      "execution_count": 35,
      "outputs": []
    },
    {
      "cell_type": "markdown",
      "source": [],
      "metadata": {
        "id": "5DhsEeVUCmK_"
      }
    },
    {
      "cell_type": "code",
      "source": [
        "df.to_csv('Movie_classification_clean.csv', index=False)"
      ],
      "metadata": {
        "id": "TToMESi6CJaj"
      },
      "execution_count": 36,
      "outputs": []
    },
    {
      "cell_type": "code",
      "source": [],
      "metadata": {
        "id": "WYxjphqVCtgF"
      },
      "execution_count": null,
      "outputs": []
    }
  ]
}